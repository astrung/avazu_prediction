{
 "cells": [
  {
   "cell_type": "code",
   "execution_count": null,
   "metadata": {
    "collapsed": true
   },
   "outputs": [],
   "source": [
    "import numpy as np\n",
    "import time\n",
    "import pandas as pd\n",
    "from sklearn.preprocessing import StandardScaler\n",
    "from sklearn.externals import joblib"
   ]
  },
  {
   "cell_type": "code",
   "execution_count": null,
   "metadata": {
    "collapsed": true
   },
   "outputs": [],
   "source": [
    "def generate_scaler_data(data_frame, scaler):\n",
    "    list_column_name = ['C1', 'C14', 'C15', 'C16', 'C17', 'C18', 'C19', 'C20', 'C21']\n",
    "    list_scaled_column_name = []\n",
    "    for column_name in list_column_name:\n",
    "        list_scaled_column_name.append(column_name + '_scaler')\n",
    "\n",
    "    sub_data = data[list_column_name]\n",
    "    scaler_data = scaler.transform(sub_data)\n",
    "    test = pd.DataFrame(scaler_data, columns=list_scaled_column_name)\n",
    "    result = pd.concat([data_frame, test], axis=1)\n",
    "\n",
    "    for column_name in list_column_name:\n",
    "        del result[column_name]\n",
    "    return result"
   ]
  },
  {
   "cell_type": "code",
   "execution_count": null,
   "metadata": {
    "collapsed": true
   },
   "outputs": [],
   "source": [
    "def fit_chunks(data, scaler):\n",
    "    data = data.reset_index(drop=True)\n",
    "    cols = ['C1'] + list(data.loc[:, 'C14':'C21'])\n",
    "    sub_data = data[cols]\n",
    "    scaler.partial_fit(sub_data)\n",
    "    print(scaler.mean_)\n",
    "    print(scaler.var_)\n",
    "    print(scaler.n_samples_seen_)\n",
    "    time.sleep(1)"
   ]
  },
  {
   "cell_type": "code",
   "execution_count": null,
   "metadata": {
    "collapsed": true
   },
   "outputs": [],
   "source": [
    "def write_scaler_csv(write_index, data, path):\n",
    "    data = data.reset_index(drop=True)\n",
    "    new_scaler_data = generate_scaler_data(data, scaler)\n",
    "    if write_index == 0:\n",
    "        new_scaler_data.to_csv(path, mode='a', index=False, )\n",
    "    else:\n",
    "        new_scaler_data.to_csv(path, mode='a', header=False,\n",
    "                               index=False,)\n",
    "    time.sleep(1)"
   ]
  },
  {
   "cell_type": "code",
   "execution_count": null,
   "metadata": {
    "collapsed": true
   },
   "outputs": [],
   "source": [
    "scaler = StandardScaler()\n",
    "training_and_test_fit_index = 0\n",
    "write_train_csv_index = 0\n",
    "write_test_csv_index = 0\n",
    "batch_size = 100000"
   ]
  },
  {
   "cell_type": "code",
   "execution_count": null,
   "metadata": {
    "collapsed": true
   },
   "outputs": [],
   "source": [
    "training_chunks = pd.read_table('C:\\\\Users\\\\tuana\\\\Desktop\\\\kaggle\\\\train\\\\train.csv', chunksize=batch_size, sep=',',\n",
    "                                index_col=False)\n",
    "test_chunks = pd.read_table('C:\\\\Users\\\\tuana\\\\Desktop\\\\kaggle\\\\test\\\\test.csv', chunksize=batch_size, sep=',',\n",
    "                            index_col=False)"
   ]
  },
  {
   "cell_type": "code",
   "execution_count": null,
   "metadata": {
    "collapsed": true
   },
   "outputs": [],
   "source": [
    "for data in training_chunks:\n",
    "    fit_chunks(data, scaler)\n",
    "\n",
    "for data in test_chunks:\n",
    "    fit_chunks(data, scaler)\n",
    "\n",
    "joblib.dump(scaler, 'standalize.pkl')"
   ]
  },
  {
   "cell_type": "code",
   "execution_count": null,
   "metadata": {
    "collapsed": true
   },
   "outputs": [],
   "source": [
    "#Re-read to reset chunk iterator\n",
    "training_chunks = pd.read_table('C:\\\\Users\\\\tuana\\\\Desktop\\\\kaggle\\\\train\\\\train.csv', chunksize=batch_size, sep=',',\n",
    "                                index_col=False, dtype={'id': str})\n",
    "test_chunks = pd.read_table('C:\\\\Users\\\\tuana\\\\Desktop\\\\kaggle\\\\test\\\\test.csv', chunksize=batch_size, sep=',',\n",
    "                            index_col=False, dtype={'id': str})"
   ]
  },
  {
   "cell_type": "code",
   "execution_count": null,
   "metadata": {
    "collapsed": true
   },
   "outputs": [],
   "source": [
    "for data in training_chunks:\n",
    "    print(write_train_csv_index)\n",
    "    write_scaler_csv(write_train_csv_index, data, \"C:\\\\Users\\\\tuana\\\\Desktop\\\\kaggle\\\\scale_train.csv\")\n",
    "    write_train_csv_index = write_train_csv_index + 1\n",
    "\n",
    "for data in test_chunks:\n",
    "    print(write_test_csv_index)\n",
    "    write_scaler_csv(write_test_csv_index, data, \"C:\\\\Users\\\\tuana\\\\Desktop\\\\kaggle\\\\scale_test.csv\")\n",
    "    write_test_csv_index = write_test_csv_index + 1"
   ]
  }
 ],
 "metadata": {
  "kernelspec": {
   "display_name": "Python 2",
   "language": "python",
   "name": "python2"
  },
  "language_info": {
   "codemirror_mode": {
    "name": "ipython",
    "version": 2
   },
   "file_extension": ".py",
   "mimetype": "text/x-python",
   "name": "python",
   "nbconvert_exporter": "python",
   "pygments_lexer": "ipython2",
   "version": "2.7.13"
  }
 },
 "nbformat": 4,
 "nbformat_minor": 2
}
