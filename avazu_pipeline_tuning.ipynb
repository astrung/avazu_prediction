{
 "cells": [
  {
   "cell_type": "code",
   "execution_count": 1,
   "metadata": {},
   "outputs": [],
   "source": [
    "from __future__ import print_function\n",
    "from sklearn.feature_extraction import FeatureHasher\n",
    "from pprint import pprint\n",
    "from time import time\n",
    "import pandas as pd\n",
    "import numpy as np\n",
    "from sklearn.linear_model import SGDClassifier\n",
    "from sklearn.model_selection import GridSearchCV\n",
    "from sklearn.pipeline import Pipeline"
   ]
  },
  {
   "cell_type": "code",
   "execution_count": 2,
   "metadata": {
    "collapsed": true
   },
   "outputs": [],
   "source": [
    "def split_X_and_Y(data):\n",
    "    Y_data = data[['click']]\n",
    "    del data['click']\n",
    "    X_data = data\n",
    "\n",
    "    return X_data, Y_data"
   ]
  },
  {
   "cell_type": "code",
   "execution_count": 3,
   "metadata": {
    "collapsed": true
   },
   "outputs": [],
   "source": [
    "def extract_time_stamp_feature(data_frame):\n",
    "    data_frame['day'] = data_frame['hour'].apply(lambda x: (x - x % 10000) / 1000000)  # day\n",
    "    data_frame['dow'] = data_frame['hour'].apply(lambda x: ((x - x % 10000) / 1000000) % 7)  # day of week\n",
    "    data_frame['hour'] = data_frame['hour'].apply(lambda x: x % 10000 / 100)  # hour\n",
    "    return data_frame"
   ]
  },
  {
   "cell_type": "code",
   "execution_count": 4,
   "metadata": {
    "collapsed": true
   },
   "outputs": [],
   "source": [
    "def hashing_data(data_frame, column_name, hasher,number_of_features):\n",
    "    list_column_name = []\n",
    "    for i in range(number_of_features):\n",
    "        list_column_name.append(column_name + str(i))\n",
    "    new_set_of_columns = hasher.transform(data_frame[column_name].values)\n",
    "    test = pd.DataFrame(new_set_of_columns.toarray(), columns=list_column_name)\n",
    "    result = pd.concat([data_frame, test], axis=1)\n",
    "    del result[column_name]\n",
    "    return result"
   ]
  },
  {
   "cell_type": "code",
   "execution_count": 7,
   "metadata": {},
   "outputs": [
    {
     "name": "stdout",
     "output_type": "stream",
     "text": [
      "                     id  click      hour  banner_pos   site_id site_domain  \\\n",
      "0  14192751356771942009      0  14102100           0  85f751fd    c4e18dd6   \n",
      "1   1661917939641506785      0  14102100           0  85f751fd    c4e18dd6   \n",
      "2   2657369591670314894      0  14102100           0  85f751fd    c4e18dd6   \n",
      "3  11533941941013118885      0  14102100           0  1fbe01fe    f3845767   \n",
      "4   4690542634279392329      0  14102100           0  85f751fd    c4e18dd6   \n",
      "5  16450495357336661478      0  14102100           0  6256f5b4    28f93029   \n",
      "6  12005074170819954140      0  14102100           1  e59ef3fc    0a4015b2   \n",
      "7  12909982014001073860      1  14102100           0  6c5b482c    7687a86e   \n",
      "8   7237707799313167653      1  14102100           0  543a539e    c7ca3108   \n",
      "9  15244551246716705914      0  14102100           0  83a0ad1a    5c9ae867   \n",
      "\n",
      "  site_category    app_id app_domain app_category     ...      \\\n",
      "0      50e219e0  6415a993   2347f47a     0f2161f8     ...       \n",
      "1      50e219e0  febd1138   82e27996     0f2161f8     ...       \n",
      "2      50e219e0  c51f82bc   d9b5648e     0f2161f8     ...       \n",
      "3      28905ebd  ecad2386   7801e8d9     07d7df22     ...       \n",
      "4      50e219e0  54c5d545   2347f47a     0f2161f8     ...       \n",
      "5      f028772b  ecad2386   7801e8d9     07d7df22     ...       \n",
      "6      335d28a8  ecad2386   7801e8d9     07d7df22     ...       \n",
      "7      3e814130  ecad2386   7801e8d9     07d7df22     ...       \n",
      "8      3e814130  ecad2386   7801e8d9     07d7df22     ...       \n",
      "9      f028772b  ecad2386   7801e8d9     07d7df22     ...       \n",
      "\n",
      "  device_conn_type C1_scaler C14_scaler  C15_scaler  C16_scaler  C17_scaler  \\\n",
      "0                2  0.027885  -0.841819    0.044282   -0.212763   -0.843513   \n",
      "1                0  0.027885   0.123586    0.044282   -0.212763    0.189727   \n",
      "2                0  0.027885   0.502606    0.044282   -0.212763    0.545675   \n",
      "3                0  0.027885  -0.696541    0.044282   -0.212763   -0.703441   \n",
      "4                0  0.027885  -0.695527    0.044282   -0.212763   -0.703441   \n",
      "5                0  0.027885  -0.511089    0.044282   -0.212763   -0.471085   \n",
      "6                0  0.027885  -0.028590    0.044282   -0.212763    0.019992   \n",
      "7                0  0.027885  -0.024126   -0.858929    4.023213    0.021640   \n",
      "8                0  0.027885   0.249182    0.044282   -0.212763    0.303432   \n",
      "9                0  0.027885   0.303965    0.044282   -0.212763    0.370997   \n",
      "\n",
      "   C18_scaler  C19_scaler  C20_scaler  C21_scaler  \n",
      "0   -1.071606   -0.180235    0.936898    0.093895  \n",
      "1    1.193120    0.594636    0.935977   -0.323678  \n",
      "2    1.193120    0.215940    0.938199   -0.323678  \n",
      "3   -1.071606   -0.547280   -1.065822   -0.073134  \n",
      "4   -1.071606   -0.547280   -1.065822   -0.073134  \n",
      "5    1.193120   -0.535627   -1.065822   -0.852605  \n",
      "6   -1.071606   -0.547280   -1.065822    1.012556  \n",
      "7    0.438212   -0.535627   -1.065822   -0.713413  \n",
      "8   -1.071606   -0.535627   -1.065822    1.012556  \n",
      "9    1.193120   -0.535627    0.938359   -0.852605  \n",
      "\n",
      "[10 rows x 24 columns]\n"
     ]
    }
   ],
   "source": [
    "data = pd.read_table(\"C:\\\\Users\\\\tuana\\\\Desktop\\\\kaggle\\\\sample_data.csv\", sep=',', index_col=False)\n",
    "original_data=data.copy()\n",
    "list_hash_columns = ['site_id', 'site_domain', 'site_category', 'app_id', 'app_domain', 'app_category',\n",
    "                     'device_model',\n",
    "                     'device_id', 'device_ip']\n",
    "list_number_hashing_features=[5]\n",
    "print(data.head(10))"
   ]
  },
  {
   "cell_type": "code",
   "execution_count": 8,
   "metadata": {},
   "outputs": [
    {
     "name": "stdout",
     "output_type": "stream",
     "text": [
      "Performing grid search...\n",
      "pipeline: ['clf']\n",
      "parameters:\n",
      "{'clf__alpha': (0.01, 0.001, 0.0001, 1e-05), 'clf__learning_rate': ['optimal']}\n"
     ]
    }
   ],
   "source": [
    "pipeline = Pipeline([\n",
    "    ('clf', SGDClassifier(tol=0.000001)),\n",
    "])\n",
    "\n",
    "parameters = {\n",
    "    'clf__alpha': (0.01,0.001,0.0001, 0.00001),\n",
    "    'clf__learning_rate':(['optimal']),\n",
    "    # 'clf__eta0':(0.0001, 0.00001,0.000001),\n",
    "    # 'clf__penalty': ('l2', 'elasticnet'),\n",
    "    # 'clf__n_iter': (1000, 5000, 8000, 10000),\n",
    "}\n",
    "\n",
    "grid_search = GridSearchCV(pipeline, parameters, n_jobs=2, verbose=1, cv=4)\n",
    "\n",
    "print(\"Performing grid search...\")\n",
    "print(\"pipeline:\", [name for name, _ in pipeline.steps])\n",
    "print(\"parameters:\")\n",
    "pprint(parameters)"
   ]
  },
  {
   "cell_type": "code",
   "execution_count": 9,
   "metadata": {},
   "outputs": [
    {
     "name": "stdout",
     "output_type": "stream",
     "text": [
      "Number of hashing features : 5\n",
      "Fitting 4 folds for each of 4 candidates, totalling 16 fits\n"
     ]
    },
    {
     "name": "stderr",
     "output_type": "stream",
     "text": [
      "[Parallel(n_jobs=2)]: Done  16 out of  16 | elapsed:  2.0min finished\n"
     ]
    },
    {
     "name": "stdout",
     "output_type": "stream",
     "text": [
      "Best score: 0.830\n",
      "Best parameters set:\n",
      "[mean: 0.66511, std: 0.28598, params: {'clf__learning_rate': 'optimal', 'clf__alpha': 0.01}, mean: 0.83023, std: 0.00000, params: {'clf__learning_rate': 'optimal', 'clf__alpha': 0.001}, mean: 0.83023, std: 0.00000, params: {'clf__learning_rate': 'optimal', 'clf__alpha': 0.0001}, mean: 0.66511, std: 0.28598, params: {'clf__learning_rate': 'optimal', 'clf__alpha': 1e-05}]\n",
      "\tclf__alpha: 0.001\n",
      "\tclf__learning_rate: 'optimal'\n"
     ]
    },
    {
     "name": "stderr",
     "output_type": "stream",
     "text": [
      "C:\\Users\\tuana\\Anaconda2\\lib\\site-packages\\sklearn\\model_selection\\_search.py:747: DeprecationWarning: The grid_scores_ attribute was deprecated in version 0.18 in favor of the more elaborate cv_results_ attribute. The grid_scores_ attribute will not be available from 0.20\n",
      "  DeprecationWarning)\n"
     ]
    }
   ],
   "source": [
    "for number_hashing_features in list_number_hashing_features:\n",
    "    print(\"Number of hashing features : %d\" % number_hashing_features)\n",
    "    data=original_data\n",
    "    hasher = FeatureHasher(n_features=number_hashing_features, input_type='string')\n",
    "\n",
    "    for column_name in list_hash_columns:\n",
    "        data = hashing_data(data, column_name, hasher,number_hashing_features)\n",
    "\n",
    "    data = extract_time_stamp_feature(data)\n",
    "    X_data, Y_data = split_X_and_Y(data)\n",
    "\n",
    "    grid_search.fit(X_data, Y_data['click'])\n",
    "\n",
    "    print(\"Best score: %0.3f\" % grid_search.best_score_)\n",
    "    print(\"Best parameters set:\")\n",
    "    best_parameters = grid_search.best_estimator_.get_params()\n",
    "    print(grid_search.grid_scores_)\n",
    "    for param_name in sorted(parameters.keys()):\n",
    "        print(\"\\t%s: %r\" % (param_name, best_parameters[param_name]))"
   ]
  },
  {
   "cell_type": "code",
   "execution_count": null,
   "metadata": {
    "collapsed": true
   },
   "outputs": [],
   "source": []
  }
 ],
 "metadata": {
  "kernelspec": {
   "display_name": "Python 2",
   "language": "python",
   "name": "python2"
  },
  "language_info": {
   "codemirror_mode": {
    "name": "ipython",
    "version": 2
   },
   "file_extension": ".py",
   "mimetype": "text/x-python",
   "name": "python",
   "nbconvert_exporter": "python",
   "pygments_lexer": "ipython2",
   "version": "2.7.13"
  }
 },
 "nbformat": 4,
 "nbformat_minor": 2
}
